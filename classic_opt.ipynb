{
 "cells": [
  {
   "cell_type": "code",
   "execution_count": 1,
   "id": "9d958436",
   "metadata": {},
   "outputs": [],
   "source": [
    "import numpy as np\n",
    "from scipy import optimize\n",
    "from matplotlib import pyplot as plt"
   ]
  },
  {
   "cell_type": "code",
   "execution_count": 67,
   "id": "843cefd4",
   "metadata": {},
   "outputs": [],
   "source": [
    "n_bonds = 20#31\n",
    "vg_raw_data = np.loadtxt(r\"data/object_mat.csv\", delimiter=\",\")[:n_bonds, :n_bonds]\n",
    "c = 2237.404382444853\n",
    "\n",
    "max_obj = np.sum(vg_raw_data, where=vg_raw_data > 0)\n",
    "min_obj = np.sum(vg_raw_data, where=vg_raw_data < 0)\n",
    "penalty = (max_obj - min_obj) * 1.1\n",
    "\n",
    "# load constrains matrix (A: (num_constr, num_bonds); b: (num_bonds,))\n",
    "constr_A = np.loadtxt(r\"data/constr_A.csv\", delimiter=\",\")[:, :n_bonds]\n",
    "constr_b = np.loadtxt(r\"data/constr_b.csv\", delimiter=\",\")\n",
    "\n",
    "# C_func_constr = lambda x, vg_data, A, b: vg_ob_qubo(x, vg_data) + c + penalty * np.sum(np.maximum(b - A @ x, 0)**2)"
   ]
  },
  {
   "cell_type": "code",
   "execution_count": 79,
   "id": "46c2e35a",
   "metadata": {},
   "outputs": [],
   "source": [
    "def loss(x, Q=vg_raw_data):\n",
    "    return x.T @ Q @ x + c + penalty * np.sum(np.maximum(constr_b - constr_A @ x, 0)**2)\n",
    "\n",
    "\n",
    "cons = {'type':'ineq',\n",
    "        'fun': lambda x: constr_A @ x - constr_b,\n",
    "        # 'jac':lambda x: constr_A\n",
    "        }\n",
    "\n",
    "opt = {'disp':False}\n"
   ]
  },
  {
   "cell_type": "code",
   "execution_count": 80,
   "id": "4ea1e4b7",
   "metadata": {},
   "outputs": [],
   "source": [
    "def bitstring_like(arr, threshold=0.5):\n",
    "    return ''.join(\n",
    "        '1' if x > threshold else '0'#('0' if x == 0 else f\"{np.round(x, 0)}\")\n",
    "        for x in arr\n",
    "    )\n",
    "\n",
    "def hamming_distance(a, b):\n",
    "    \"\"\"Calculate the Hamming distance between two bitstrings of equal length.\"\"\"\n",
    "    if len(a) != len(b):\n",
    "        raise ValueError(\"Bitstrings must be of equal length\")\n",
    "    return sum(x != y for x, y in zip(a, b))"
   ]
  },
  {
   "cell_type": "code",
   "execution_count": 81,
   "id": "65882aac",
   "metadata": {},
   "outputs": [],
   "source": [
    "x0 = np.random.rand(n_bonds)    # initial guess"
   ]
  },
  {
   "cell_type": "code",
   "execution_count": 82,
   "id": "71bb4261",
   "metadata": {},
   "outputs": [
    {
     "name": "stderr",
     "output_type": "stream",
     "text": [
      "C:\\Users\\xuera\\AppData\\Local\\Temp\\ipykernel_27504\\3700067659.py:17: DeprecationWarning: scipy.optimize: The `disp` and `iprint` options of the L-BFGS-B solver are deprecated and will be removed in SciPy 1.18.0.\n",
      "  res_uncons = optimize.minimize(\n"
     ]
    },
    {
     "name": "stdout",
     "output_type": "stream",
     "text": [
      "L-BFGS-B     | Success: True | Fun: 58508.9930 | NFEV: 42 | Time: 0.0030s\n",
      "L-BFGS-B     | x = 11110111111111111111\n",
      "TNC          | Success: True | Fun: 58508.9930 | NFEV: 1890 | Time: 0.0634s\n",
      "TNC          | x = 11110111111111111111\n",
      "SLSQP        | Success: True | Fun: 1722864.1585 | NFEV: 21 | Time: 0.0010s\n",
      "SLSQP        | x = 00111111010101011100\n",
      "Powell       | Success: True | Fun: 58546.6448 | NFEV: 802 | Time: 0.0275s\n",
      "Powell       | x = 11110111111111111111\n",
      "trust-constr | Success: False | Fun: 58540.2213 | NFEV: 21000 | Time: 3.2254s\n",
      "trust-constr | x = 11111011111111111111\n"
     ]
    }
   ],
   "source": [
    "import time\n",
    "\n",
    "# Methods that support bounds\n",
    "methods_with_bounds = [\n",
    "    \"L-BFGS-B\",\n",
    "    \"TNC\",\n",
    "    \"SLSQP\",\n",
    "    \"Powell\",\n",
    "    \"trust-constr\"\n",
    "]\n",
    "\n",
    "results = {}\n",
    "\n",
    "for method in methods_with_bounds:\n",
    "    try:\n",
    "        start = time.time()\n",
    "        res_uncons = optimize.minimize(\n",
    "            loss, \n",
    "            x0, \n",
    "            bounds=((0, 1),) * n_bonds,\n",
    "            method=method,\n",
    "            options=opt\n",
    "        )\n",
    "        elapsed = time.time() - start\n",
    "        results[method] = {\n",
    "            \"success\": res_uncons.success,\n",
    "            \"fun\": res_uncons.fun,\n",
    "            \"nfev\": res_uncons.nfev,\n",
    "            \"time\": elapsed\n",
    "        }\n",
    "        print(f\"{method:12} | Success: {res_uncons.success} | Fun: {res_uncons.fun:.4f} | NFEV: {res_uncons.nfev} | Time: {elapsed:.4f}s\")\n",
    "        print(f\"{method:12} | x = {bitstring_like(res_uncons.x)}\")\n",
    "    except Exception as e:\n",
    "        print(f\"{method:12} | Error: {e}\")\n"
   ]
  },
  {
   "cell_type": "markdown",
   "id": "67548745",
   "metadata": {},
   "source": [
    "## Minimization with constraints"
   ]
  },
  {
   "cell_type": "code",
   "execution_count": 83,
   "id": "1a6acd9a",
   "metadata": {},
   "outputs": [
    {
     "name": "stdout",
     "output_type": "stream",
     "text": [
      "COBYLA       | Success: True | Fun: 58523.7904 | NFEV: 111 | Time: 1.1361s\n",
      "COBYLA       | x = 11110111111011111111\n",
      "COBYQA       | Success: True | Fun: 58521.3928 | NFEV: 153 | Time: 0.3220s\n",
      "COBYQA       | x = 11110011111111111111\n",
      "TNC          | Success: True | Fun: 58508.9930 | NFEV: 1890 | Time: 0.0475s\n",
      "TNC          | x = 11110111111111111111\n",
      "SLSQP        | Success: True | Fun: 1722864.1585 | NFEV: 21 | Time: 0.0000s\n",
      "SLSQP        | x = 00111111010101011100\n",
      "Powell       | Success: True | Fun: 58546.6448 | NFEV: 802 | Time: 0.0321s\n",
      "Powell       | x = 11110111111111111111\n",
      "trust-constr | Success: False | Fun: 58540.2213 | NFEV: 21000 | Time: 2.6573s\n",
      "trust-constr | x = 11111011111111111111\n"
     ]
    }
   ],
   "source": [
    "# Methods that support constraints\n",
    "methods_for_constrs = [\n",
    "    \"COBYLA\",\n",
    "    \"COBYQA\",\n",
    "    \"TNC\",\n",
    "    \"SLSQP\",\n",
    "    \"Powell\",\n",
    "    \"trust-constr\"\n",
    "]\n",
    "\n",
    "for method in methods_for_constrs:\n",
    "    try:\n",
    "        start = time.time()\n",
    "        res_uncons = optimize.minimize(\n",
    "            loss, \n",
    "            x0, \n",
    "            bounds=((0, 1),) * n_bonds,\n",
    "            method=method,\n",
    "            options=opt\n",
    "        )\n",
    "        elapsed = time.time() - start\n",
    "        results[method] = {\n",
    "            \"success\": res_uncons.success,\n",
    "            \"fun\": res_uncons.fun,\n",
    "            \"nfev\": res_uncons.nfev,\n",
    "            \"time\": elapsed\n",
    "        }\n",
    "        print(f\"{method:12} | Success: {res_uncons.success} | Fun: {res_uncons.fun:.4f} | NFEV: {res_uncons.nfev} | Time: {elapsed:.4f}s\")\n",
    "        print(f\"{method:12} | x = {bitstring_like(res_uncons.x)}\")\n",
    "    except Exception as e:\n",
    "        print(f\"{method:12} | Error: {e}\")\n"
   ]
  },
  {
   "cell_type": "markdown",
   "id": "f9a76f8d",
   "metadata": {},
   "source": [
    "## SLSQP only"
   ]
  },
  {
   "cell_type": "code",
   "execution_count": 84,
   "id": "f3f3ac06",
   "metadata": {},
   "outputs": [],
   "source": [
    "res_uncons = optimize.minimize(\n",
    "        loss, \n",
    "        x0, \n",
    "        bounds=((0, 1),) * n_bonds,\n",
    "        method='SLSQP',\n",
    "        options=opt)"
   ]
  },
  {
   "cell_type": "code",
   "execution_count": 85,
   "id": "f13613e0",
   "metadata": {},
   "outputs": [
    {
     "data": {
      "text/plain": [
       "     message: Optimization terminated successfully\n",
       "     success: True\n",
       "      status: 0\n",
       "         fun: 1722864.158542234\n",
       "           x: [ 2.403e-02  3.852e-02 ...  1.242e-01  2.012e-01]\n",
       "         nit: 5\n",
       "         jac: [-1.690e+05 -2.273e+05 ... -2.277e+05 -2.973e+05]\n",
       "        nfev: 21\n",
       "        njev: 1\n",
       " multipliers: []"
      ]
     },
     "execution_count": 85,
     "metadata": {},
     "output_type": "execute_result"
    }
   ],
   "source": [
    "res_uncons"
   ]
  },
  {
   "cell_type": "code",
   "execution_count": 86,
   "id": "3032ea25",
   "metadata": {},
   "outputs": [],
   "source": [
    "res_cons = optimize.minimize(\n",
    "    loss,\n",
    "    x0,\n",
    "    bounds=((0, 1),) * n_bonds,\n",
    "    constraints=cons,\n",
    "    method='SLSQP', \n",
    "    options=opt)"
   ]
  },
  {
   "cell_type": "code",
   "execution_count": 87,
   "id": "b4acb712",
   "metadata": {},
   "outputs": [
    {
     "data": {
      "text/plain": [
       "     message: Positive directional derivative for linesearch\n",
       "     success: False\n",
       "      status: 8\n",
       "         fun: 1722864.158542234\n",
       "           x: [ 2.403e-02  3.852e-02 ...  1.242e-01  2.012e-01]\n",
       "         nit: 5\n",
       "         jac: [-1.690e+05 -2.273e+05 ... -2.277e+05 -2.973e+05]\n",
       "        nfev: 21\n",
       "        njev: 1\n",
       " multipliers: [ 0.000e+00  2.070e+02 ...  0.000e+00  0.000e+00]"
      ]
     },
     "execution_count": 87,
     "metadata": {},
     "output_type": "execute_result"
    }
   ],
   "source": [
    "res_cons"
   ]
  },
  {
   "cell_type": "code",
   "execution_count": 88,
   "id": "126509ef",
   "metadata": {},
   "outputs": [
    {
     "name": "stdout",
     "output_type": "stream",
     "text": [
      "Scipy.minimize: d_H=9  00111111010101011100 (no constraints)\n",
      "Scipy.minimize: d_H=9  00111111010101011100 (with constraints)\n",
      "Brute-force:           11110111111111111111 (ref)\n"
     ]
    }
   ],
   "source": [
    "# ref_bitstring = \"0111001011111011101011100111101\"\n",
    "ref_bitstring = \"11110111111111111111\"\n",
    "print(\"Scipy.minimize: \" + f\"d_H={hamming_distance(bitstring_like(res_uncons.x), ref_bitstring):.0f}  \" + bitstring_like(res_uncons.x) + \" (no constraints)\")\n",
    "print(\"Scipy.minimize: \" + f\"d_H={hamming_distance(bitstring_like(res_cons.x), ref_bitstring):.0f}  \" + bitstring_like(res_cons.x) + \" (with constraints)\")\n",
    "print(\"Brute-force:           \" + ref_bitstring + \" (ref)\")"
   ]
  },
  {
   "cell_type": "code",
   "execution_count": null,
   "id": "0ea62659",
   "metadata": {},
   "outputs": [],
   "source": []
  }
 ],
 "metadata": {
  "kernelspec": {
   "display_name": "qaq.com",
   "language": "python",
   "name": "python3"
  },
  "language_info": {
   "codemirror_mode": {
    "name": "ipython",
    "version": 3
   },
   "file_extension": ".py",
   "mimetype": "text/x-python",
   "name": "python",
   "nbconvert_exporter": "python",
   "pygments_lexer": "ipython3",
   "version": "3.11.9"
  }
 },
 "nbformat": 4,
 "nbformat_minor": 5
}
